{
 "cells": [
  {
   "cell_type": "code",
   "execution_count": 1,
   "metadata": {},
   "outputs": [
    {
     "name": "stdout",
     "output_type": "stream",
     "text": [
      "Got: 0\n",
      "Got: 1\n",
      "Got: 2\n",
      "Got: 3\n",
      "Got: 4\n",
      "Got: 5\n",
      "Got: 6\n",
      "Got: 7\n",
      "Got: 8\n",
      "Got: 9\n",
      "Sequence completed\n"
     ]
    }
   ],
   "source": [
    ""
   ]
  },
  {
   "cell_type": "code",
   "execution_count": 2,
   "metadata": {},
   "outputs": [
    {
     "name": "stdout",
     "output_type": "stream",
     "text": [
      "image/jpeg\n",
      "image/jpeg\n",
      "image/jpeg\n"
     ]
    }
   ],
   "source": [
    "import aiohttp\n",
    "import asyncio\n",
    "\n",
    "URLS = ['http://i.imgur.com/vy35i0G.jpg']*3\n",
    "\n",
    "class AsyncIterFromTasks:\n",
    "    def __init__(self, tasks):\n",
    "        self.not_done = list(tasks)\n",
    "        self.done = set()\n",
    "    async def __aiter__(self):\n",
    "        return self\n",
    "    async def __anext__(self):\n",
    "        if not self.done and self.not_done:\n",
    "            self.done, self.not_done = await asyncio.wait(self.not_done, return_when=asyncio.FIRST_COMPLETED)\n",
    "        if not self.done:\n",
    "            assert not self.not_done\n",
    "            raise StopAsyncIteration()\n",
    "        return self.done.pop()\n",
    "\n",
    "def aimap(func, lst, *lsts):\n",
    "    tasks = []\n",
    "    for args in zip(lst, *lsts):\n",
    "        tasks.append(func(*args))\n",
    "    return AsyncIterFromTasks(tasks)\n",
    "\n",
    "async def get_content_type(url):\n",
    "    response = await aiohttp.request('HEAD', url)\n",
    "    response.close()\n",
    "    return response.headers['CONTENT-TYPE']\n",
    "\n",
    "async def main():\n",
    "    async for task in aimap(get_content_type, URLS):\n",
    "        print(task.result())\n",
    "\n",
    "loop = asyncio.get_event_loop()\n",
    "loop.run_until_complete(main())"
   ]
  },
  {
   "cell_type": "code",
   "execution_count": null,
   "metadata": {},
   "outputs": [],
   "source": [
    "import asyncio\n",
    "import datetime\n",
    "\n",
    "async def display_date(loop):\n",
    "    end_time = loop.time() + 5.0\n",
    "    while True:\n",
    "        print(datetime.datetime.now())\n",
    "        if (loop.time() + 1.0) >= end_time:\n",
    "            break\n",
    "        await asyncio.sleep(1)\n",
    "\n",
    "loop = asyncio.get_event_loop()\n",
    "# Blocking call which returns when the display_date() coroutine is done\n",
    "loop.run_until_complete(display_date(loop))\n",
    "loop.close()"
   ]
  },
  {
   "cell_type": "code",
   "execution_count": null,
   "metadata": {},
   "outputs": [],
   "source": [
    "import asyncio\n",
    "\n",
    "@asyncio.coroutine\n",
    "def slow_operation(n):\n",
    "    yield from asyncio.sleep(1)\n",
    "    print(\"Slow operation {} complete\".format(n))\n",
    "\n",
    "\n",
    "@asyncio.coroutine\n",
    "def main():\n",
    "    yield from asyncio.wait([\n",
    "        slow_operation(1),\n",
    "        slow_operation(2),\n",
    "        slow_operation(3),\n",
    "    ])\n",
    "\n",
    "\n",
    "loop = asyncio.get_event_loop()\n",
    "loop.run_until_complete(main())"
   ]
  },
  {
   "cell_type": "code",
   "execution_count": null,
   "metadata": {},
   "outputs": [],
   "source": [
    "import asyncio\n",
    "\n",
    "async def slow_operation(n):\n",
    "    await asyncio.sleep(1)\n",
    "    print(\"Slow operation {} complete\".format(n))\n",
    "\n",
    "\n",
    "async def main():\n",
    "    await asyncio.wait([\n",
    "        slow_operation(1),\n",
    "        slow_operation(2),\n",
    "        slow_operation(3),\n",
    "    ])\n",
    "\n",
    "\n",
    "loop = asyncio.get_event_loop()\n",
    "loop.run_until_complete(main())"
   ]
  },
  {
   "cell_type": "code",
   "execution_count": null,
   "metadata": {},
   "outputs": [],
   "source": [
    "def grep(pattern):\n",
    " print(\"Looking for %s\" % pattern)\n",
    " while True:\n",
    "     line = (yield)\n",
    "     if pattern in line:\n",
    "         print(line)\n",
    "\n",
    "g = grep(\"python\")\n",
    "g.next()"
   ]
  },
  {
   "cell_type": "code",
   "execution_count": null,
   "metadata": {},
   "outputs": [],
   "source": [
    "def reader():\n",
    "    \"\"\"A generator that fakes a read from a file, socket, etc.\"\"\"\n",
    "    for i in range(4):\n",
    "        yield '=== %s' % i\n",
    "\n",
    "def reader_wrapper(g):\n",
    "    # Manually iterate over data produced by reader\n",
    "    for v in g:\n",
    "        yield v\n",
    "\n",
    "wrap = reader_wrapper(reader())\n",
    "for i in wrap:\n",
    "    print(i)"
   ]
  },
  {
   "cell_type": "markdown",
   "metadata": {},
   "source": [
    "# Coroutine"
   ]
  },
  {
   "cell_type": "code",
   "execution_count": null,
   "metadata": {},
   "outputs": [],
   "source": [
    "def match(pattern):\n",
    "    print('Looking for ' + pattern)\n",
    "    try:\n",
    "        while True:\n",
    "            s = (yield)\n",
    "            if pattern in s:\n",
    "                print(s)\n",
    "    except GeneratorExit:\n",
    "        print(\"=== Done ===\")"
   ]
  },
  {
   "cell_type": "code",
   "execution_count": null,
   "metadata": {},
   "outputs": [],
   "source": [
    "m = match(\"Jabberwock\")\n",
    "m.__next__()"
   ]
  },
  {
   "cell_type": "code",
   "execution_count": null,
   "metadata": {},
   "outputs": [],
   "source": [
    "m.send(\"the Jabberwock with eyes of flame\")\n",
    "m.send(\"bwa\")\n",
    "m.send(\"ugga Jabberwock\")"
   ]
  },
  {
   "cell_type": "markdown",
   "metadata": {},
   "source": [
    "# Await\n"
   ]
  },
  {
   "cell_type": "code",
   "execution_count": null,
   "metadata": {},
   "outputs": [],
   "source": [
    "async def coro1():\n",
    "    print(\"C1: Start\")\n",
    "    print(\"C1: Stop\")\n",
    "\n",
    "\n",
    "async def coro2():\n",
    "    print(\"C2: Start\")\n",
    "    print(\"C2: a\")\n",
    "    print(\"C2: b\")\n",
    "    print(\"C2: c\")\n",
    "    print(\"C2: Stop\")\n",
    "    \n",
    "def run(coros):\n",
    "    coros = list(coros)\n",
    "\n",
    "    while coros:\n",
    "        # Duplicate list for iteration so we can remove from original list.\n",
    "        for coro in list(coros):\n",
    "            try:\n",
    "                coro.send(None)\n",
    "            except StopIteration:\n",
    "                coros.remove(coro)\n",
    "                \n",
    "c1 = coro1()\n",
    "c2 = coro2()\n",
    "run([c1, c2])"
   ]
  },
  {
   "cell_type": "code",
   "execution_count": null,
   "metadata": {},
   "outputs": [],
   "source": [
    "import asyncio\n",
    "\n",
    "async def hello_world():\n",
    "    print(\"Hello World!\")\n",
    "\n",
    "loop = asyncio.get_event_loop()\n",
    "# Blocking call which returns when the hello_world() coroutine is done\n",
    "loop.run_until_complete(hello_world())\n",
    "loop.close()"
   ]
  },
  {
   "cell_type": "code",
   "execution_count": null,
   "metadata": {},
   "outputs": [],
   "source": [
    "a = 'a', 'b', 'c'\n",
    "print(a.remove('b'))"
   ]
  }
 ],
 "metadata": {
  "kernelspec": {
   "display_name": "Python 3",
   "language": "python",
   "name": "python3"
  },
  "language_info": {
   "codemirror_mode": {
    "name": "ipython",
    "version": 3.0
   },
   "file_extension": ".py",
   "mimetype": "text/x-python",
   "name": "python",
   "nbconvert_exporter": "python",
   "pygments_lexer": "ipython3",
   "version": "3.5.1"
  }
 },
 "nbformat": 4,
 "nbformat_minor": 0
}