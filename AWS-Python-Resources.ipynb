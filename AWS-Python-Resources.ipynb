{
 "cells": [
  {
   "cell_type": "markdown",
   "metadata": {},
   "source": [
    "## AWS and Python Resources\n",
    "\n",
    "This is a Jupyter Notebook. Previously known as IPython Notebook.   \n",
    "\n",
    "We are using Python 3.5 here.\n",
    "\n",
    "**Anaconda**: Package manager for Python (and more). A big download with lots of goodies, including Jupyter Notebook, and most of the packages listed below. https://www.continuum.io/downloads\n",
    "To update packages: conda update *package-name*\n",
    "\n",
    "**boto3**: The AWS SDK for Python. pip install boto3  (Anaconda comes with older boto.) http://boto3.readthedocs.org/, http://aws.amazon.com/sdk-for-python/\n",
    "\n",
    "**flask**: Micro framework for webservers.  http://flask.pocoo.org/\n",
    "\n",
    "**flask-restful**: Extends Flask for RESTful APIs. pip install flask-restful. http://flask-restful.readthedocs.org/\n",
    "\n",
    "**flask-restplus**: Helpers, syntaxic sugar and Swagger. pip install flask-restplus. https://github.com/noirbizarre/flask-restplus \n",
    "\n",
    "**sqlalchemy**: Database Toolkit for Python. http://www.sqlalchemy.org/ \n",
    "\n",
    "**scikit-learn**: Machine Learning. http://scikit-learn.org/  Nice intro video: https://www.youtube.com/watch?v=L7R4HUQ-eQ0\n",
    "\n",
    "\n",
    "\n"
   ]
  },
  {
   "cell_type": "code",
   "execution_count": 1,
   "metadata": {
    "collapsed": false
   },
   "outputs": [
    {
     "name": "stdout",
     "output_type": "stream",
     "text": [
      "3.5.0 |Anaconda 2.4.0 (x86_64)| (default, Oct 20 2015, 14:39:26) \n",
      "[GCC 4.2.1 (Apple Inc. build 5577)]\n"
     ]
    }
   ],
   "source": [
    "# We are running Python 3.5.0\n",
    "import sys\n",
    "print(sys.version)"
   ]
  },
  {
   "cell_type": "code",
   "execution_count": 34,
   "metadata": {
    "collapsed": false
   },
   "outputs": [
    {
     "name": "stdout",
     "output_type": "stream",
     "text": [
      "b\n"
     ]
    }
   ],
   "source": [
    "from pprint import pprint\n",
    "coords = ['a', 'b', 'c']\n",
    "print(coords[1])\n"
   ]
  },
  {
   "cell_type": "code",
   "execution_count": 53,
   "metadata": {
    "collapsed": false
   },
   "outputs": [
    {
     "name": "stdout",
     "output_type": "stream",
     "text": [
      "7\n"
     ]
    }
   ],
   "source": [
    "a, b, c = 12%5, 2, 3\n",
    "d= a, b, c\n",
    "#print(type(d))\n",
    "e=sum(d)\n",
    "print(e)"
   ]
  },
  {
   "cell_type": "code",
   "execution_count": null,
   "metadata": {
    "collapsed": true
   },
   "outputs": [],
   "source": []
  },
  {
   "cell_type": "code",
   "execution_count": null,
   "metadata": {
    "collapsed": true
   },
   "outputs": [],
   "source": []
  },
  {
   "cell_type": "code",
   "execution_count": null,
   "metadata": {
    "collapsed": true
   },
   "outputs": [],
   "source": []
  },
  {
   "cell_type": "code",
   "execution_count": null,
   "metadata": {
    "collapsed": true
   },
   "outputs": [],
   "source": []
  }
 ],
 "metadata": {
  "kernelspec": {
   "display_name": "Python 3",
   "language": "python",
   "name": "python3"
  },
  "language_info": {
   "codemirror_mode": {
    "name": "ipython",
    "version": 3
   },
   "file_extension": ".py",
   "mimetype": "text/x-python",
   "name": "python",
   "nbconvert_exporter": "python",
   "pygments_lexer": "ipython3",
   "version": "3.5.1"
  }
 },
 "nbformat": 4,
 "nbformat_minor": 0
}
